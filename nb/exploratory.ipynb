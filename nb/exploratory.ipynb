{
 "cells": [
  {
   "cell_type": "code",
   "execution_count": 1,
   "metadata": {},
   "outputs": [],
   "source": [
    "import pandas as pd\n",
    "import numpy as np\n",
    "import networkx as nx\n",
    "from typing import List\n",
    "from collections import defaultdict"
   ]
  },
  {
   "cell_type": "code",
   "execution_count": 2,
   "metadata": {},
   "outputs": [],
   "source": [
    "# fname = \"../data/huang_emt_scc.gxml\"\n",
    "# fname = \"../data/omnipath.gxml\"\n",
    "fname = \"../data/tcell_scc.gxml\"\n",
    "g = nx.read_graphml(fname)"
   ]
  },
  {
   "cell_type": "markdown",
   "metadata": {},
   "source": [
    "# Network Cycles becomes Nodes"
   ]
  },
  {
   "cell_type": "markdown",
   "metadata": {},
   "source": [
    "## Filtering for only Positive-cycles\n",
    "A cycle is positive if the XOR of their \"represses\" of all the edges results in a positive"
   ]
  },
  {
   "cell_type": "code",
   "execution_count": 3,
   "metadata": {},
   "outputs": [
    {
     "name": "stdout",
     "output_type": "stream",
     "text": [
      "True -> (0, 11: False) -> True -> (11, 22: True) -> False -> (22, 15: True) -> True\n",
      "True -> (15, 7: False) -> True -> (7, 19: False) -> True -> (19, 13: True) -> False\n",
      "False -> (13, 3: False) -> False -> (3, 0: False) -> False"
     ]
    }
   ],
   "source": [
    "cycles = sorted(nx.simple_cycles(g))\n",
    "cycle = cycles[0]\n",
    "positive = True\n",
    "print(positive, end =\"\")\n",
    "for i, node in enumerate(cycle):\n",
    "    next_node = cycle[(i + 1) % len(cycle)]\n",
    "    repress = g.edges[node, next_node]['repress']\n",
    "    positive ^= repress\n",
    "    print(f\" -> ({node}, {next_node}: {repress}) -> {positive}\", end=\"\")\n",
    "    if (i + 1) % 3 == 0:\n",
    "        print(f'\\n{positive}', end=\"\")"
   ]
  },
  {
   "cell_type": "code",
   "execution_count": 4,
   "metadata": {},
   "outputs": [],
   "source": [
    "def is_positive(graph: nx.Graph, cycle: List[str]):\n",
    "    positive = True\n",
    "    for i, node in enumerate(cycle):\n",
    "        next_node = cycle[(i + 1) % len(cycle)]\n",
    "        repress = g.edges[node, next_node]['repress']\n",
    "        positive ^= repress\n",
    "    return positive"
   ]
  },
  {
   "cell_type": "markdown",
   "metadata": {},
   "source": [
    "Find all positive cycles"
   ]
  },
  {
   "cell_type": "code",
   "execution_count": 5,
   "metadata": {},
   "outputs": [
    {
     "data": {
      "text/plain": [
       "1424"
      ]
     },
     "execution_count": 5,
     "metadata": {},
     "output_type": "execute_result"
    }
   ],
   "source": [
    "all_cycles = list(nx.simple_cycles(g))\n",
    "cycles = [c for c in nx.simple_cycles(g) if is_positive(g, c)]\n",
    "len(all_cycles) - len(cycles)"
   ]
  },
  {
   "cell_type": "markdown",
   "metadata": {},
   "source": [
    "## Edge to Cycles Map\n",
    "For each edge, create a set that tracks all the cycles that the edge is in"
   ]
  },
  {
   "cell_type": "code",
   "execution_count": 6,
   "metadata": {},
   "outputs": [],
   "source": [
    "edge_cycles_mp = defaultdict(set)\n",
    "for cycle in all_cycles:\n",
    "    cycle_set = frozenset(cycle)\n",
    "    for i, node in enumerate(cycle):\n",
    "        next_node = cycle[(i + 1) % len(cycle)]\n",
    "        edge_cycles_mp[node, next_node].add(cycle_set)\n",
    "nx.set_edge_attributes(g, edge_cycles_mp, \"cycles\")"
   ]
  },
  {
   "cell_type": "markdown",
   "metadata": {},
   "source": [
    "## Node to Cycles Map\n",
    "For each node, create a set that tracks all the cycles that the node is in"
   ]
  },
  {
   "cell_type": "code",
   "execution_count": 7,
   "metadata": {},
   "outputs": [],
   "source": [
    "node_cycles_mp = defaultdict(set)\n",
    "for cycle in all_cycles:\n",
    "    cycle_set = frozenset(cycle)\n",
    "    for _, node in enumerate(cycle):\n",
    "        node_cycles_mp[node].add(cycle_set)\n",
    "        \n",
    "nx.set_node_attributes(g, node_cycles_mp, \"cycles\")\n",
    "\n",
    "# for n, c in g.nodes(data='cycles'):\n",
    "#     print(n, len(c))"
   ]
  },
  {
   "cell_type": "markdown",
   "metadata": {},
   "source": [
    "# Cycle Intersection Graph"
   ]
  },
  {
   "cell_type": "code",
   "execution_count": 76,
   "metadata": {},
   "outputs": [],
   "source": [
    "frozen_cycles = [frozenset(c) for c in all_cycles]\n",
    "positive_cycles = [is_positive(g, c) for c in all_cycles]\n",
    "cycle_graph = nx.Graph()\n",
    "for fc, pc in zip(frozen_cycles, positive_cycles):\n",
    "    cycle_graph.add_node(fc, positive=pc)"
   ]
  },
  {
   "cell_type": "code",
   "execution_count": 77,
   "metadata": {},
   "outputs": [],
   "source": [
    "for i, c1 in enumerate(frozen_cycles):\n",
    "    for c2 in frozen_cycles[i + 1:]:\n",
    "        common = c1 & c2\n",
    "        if common:\n",
    "            cycle_graph.add_edge(c1, c2, nodes=common)"
   ]
  },
  {
   "cell_type": "code",
   "execution_count": 78,
   "metadata": {},
   "outputs": [
    {
     "data": {
      "text/plain": [
       "{'positive': True}"
      ]
     },
     "execution_count": 78,
     "metadata": {},
     "output_type": "execute_result"
    }
   ],
   "source": [
    "cycle_graph.nodes()[(frozenset({'8'}))]"
   ]
  },
  {
   "cell_type": "code",
   "execution_count": 69,
   "metadata": {},
   "outputs": [
    {
     "data": {
      "text/plain": [
       "1446619"
      ]
     },
     "execution_count": 69,
     "metadata": {},
     "output_type": "execute_result"
    }
   ],
   "source": [
    "len(cycle_graph.edges)"
   ]
  },
  {
   "cell_type": "markdown",
   "metadata": {},
   "source": [
    "## Type 1 Detection\n",
    "Three cycles with a common node"
   ]
  },
  {
   "cell_type": "code",
   "execution_count": null,
   "metadata": {},
   "outputs": [],
   "source": [
    "for edge, cycle_set in edge_cycles_mp.items():\n",
    "    print(edge, cycle_set)"
   ]
  },
  {
   "cell_type": "markdown",
   "metadata": {},
   "source": [
    "# Type 2 Detection\n",
    "Type 2 motifs are two cycles connected by a third cycle"
   ]
  }
 ],
 "metadata": {
  "kernelspec": {
   "display_name": "venv",
   "language": "python",
   "name": "python3"
  },
  "language_info": {
   "codemirror_mode": {
    "name": "ipython",
    "version": 3
   },
   "file_extension": ".py",
   "mimetype": "text/x-python",
   "name": "python",
   "nbconvert_exporter": "python",
   "pygments_lexer": "ipython3",
   "version": "3.12.6"
  }
 },
 "nbformat": 4,
 "nbformat_minor": 2
}
