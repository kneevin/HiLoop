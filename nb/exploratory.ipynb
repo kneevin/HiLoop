{
 "cells": [
  {
   "cell_type": "code",
   "execution_count": 21,
   "metadata": {},
   "outputs": [],
   "source": [
    "import pandas as pd\n",
    "import numpy as np\n",
    "import networkx as nx\n",
    "from typing import List\n",
    "from collections import defaultdict"
   ]
  },
  {
   "cell_type": "code",
   "execution_count": 9,
   "metadata": {},
   "outputs": [],
   "source": [
    "# fname = \"../data/huang_emt_scc.gxml\"\n",
    "# fname = \"../data/omnipath.gxml\"\n",
    "fname = \"../data/tcell_scc.gxml\"\n",
    "g = nx.read_graphml(fname)"
   ]
  },
  {
   "cell_type": "markdown",
   "metadata": {},
   "source": [
    "# Positive-cycle\n",
    "A cycle is positive if the XOR of their \"represses\" of all the edges results in a positive"
   ]
  },
  {
   "cell_type": "code",
   "execution_count": 19,
   "metadata": {},
   "outputs": [
    {
     "name": "stdout",
     "output_type": "stream",
     "text": [
      "True -> (0, 1: False) -> True -> (1, 0: True) -> False"
     ]
    }
   ],
   "source": [
    "cycles = sorted(nx.simple_cycles(g))\n",
    "cycle = cycles[0]\n",
    "positive = True\n",
    "print(positive, end =\"\")\n",
    "for i, node in enumerate(cycle):\n",
    "    next_node = cycle[(i + 1) % len(cycle)]\n",
    "    repress = g.edges[node, next_node]['repress']\n",
    "    positive ^= repress\n",
    "    print(f\" -> ({node}, {next_node}: {repress}) -> {positive}\", end=\"\")\n",
    "    if (i + 1) % 3 == 0:\n",
    "        print(f'\\n{positive}', end=\"\")"
   ]
  },
  {
   "cell_type": "markdown",
   "metadata": {},
   "source": [
    "## Type 1 Motif"
   ]
  },
  {
   "cell_type": "markdown",
   "metadata": {},
   "source": [
    "## Find all positive cycles"
   ]
  },
  {
   "cell_type": "code",
   "execution_count": 11,
   "metadata": {},
   "outputs": [],
   "source": [
    "def is_positive(graph: nx.Graph, cycle: List[str]):\n",
    "    positive = True\n",
    "    for i, node in enumerate(cycle):\n",
    "        next_node = cycle[(i + 1) % len(cycle)]\n",
    "        repress = g.edges[node, next_node]['repress']\n",
    "        positive ^= repress\n",
    "    return positive"
   ]
  },
  {
   "cell_type": "code",
   "execution_count": null,
   "metadata": {},
   "outputs": [
    {
     "data": {
      "text/plain": [
       "1424"
      ]
     },
     "execution_count": 18,
     "metadata": {},
     "output_type": "execute_result"
    }
   ],
   "source": [
    "all_cycles = list(nx.simple_cycles(g))\n",
    "cycles = [c for c in nx.simple_cycles(g) if is_positive(g, c)]\n",
    "len(all_cycles) - len(cycles)"
   ]
  },
  {
   "cell_type": "markdown",
   "metadata": {},
   "source": [
    "## Cycle Set Map\n",
    "For each edge, create a set that tracks all the cycles that the edge is in"
   ]
  },
  {
   "cell_type": "code",
   "execution_count": 54,
   "metadata": {},
   "outputs": [],
   "source": [
    "edge_cycles_mp = defaultdict(set)\n",
    "for cycle in cycles:\n",
    "    cycle_set = tuple(cycle)\n",
    "    for i, node in enumerate(cycle):\n",
    "        next_node = cycle[(i + 1) % len(cycle)]\n",
    "        edge_cycles_mp[node, next_node].add(cycle_set)\n",
    "nx.set_edge_attributes(g, edge_cycles_mp, \"cycles\")"
   ]
  },
  {
   "cell_type": "markdown",
   "metadata": {},
   "source": [
    "## Type 1 Detection"
   ]
  },
  {
   "cell_type": "code",
   "execution_count": null,
   "metadata": {},
   "outputs": [],
   "source": []
  }
 ],
 "metadata": {
  "kernelspec": {
   "display_name": "venv",
   "language": "python",
   "name": "python3"
  },
  "language_info": {
   "codemirror_mode": {
    "name": "ipython",
    "version": 3
   },
   "file_extension": ".py",
   "mimetype": "text/x-python",
   "name": "python",
   "nbconvert_exporter": "python",
   "pygments_lexer": "ipython3",
   "version": "3.12.6"
  }
 },
 "nbformat": 4,
 "nbformat_minor": 2
}
