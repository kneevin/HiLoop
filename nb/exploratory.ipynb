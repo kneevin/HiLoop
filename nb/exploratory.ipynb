{
 "cells": [
  {
   "cell_type": "code",
   "execution_count": 1,
   "metadata": {},
   "outputs": [],
   "source": [
    "import hashlib\n",
    "import pandas as pd\n",
    "import numpy as np\n",
    "import networkx as nx\n",
    "from typing import List, Tuple, Generator\n",
    "from collections import defaultdict"
   ]
  },
  {
   "cell_type": "code",
   "execution_count": 2,
   "metadata": {},
   "outputs": [],
   "source": [
    "# fname = \"../data/huang_emt_scc.gxml\"\n",
    "# fname = \"../data/omnipath.gxml\"\n",
    "fname = \"../data/tcell_scc.gxml\"\n",
    "g = nx.read_graphml(fname)\n",
    "g = nx.convert_node_labels_to_integers(g)"
   ]
  },
  {
   "cell_type": "code",
   "execution_count": 3,
   "metadata": {},
   "outputs": [
    {
     "data": {
      "text/plain": [
       "NodeDataView({0: {'name': 'Notch'}, 1: {'name': 'Deltex'}, 2: {'name': 'Notch3'}, 3: {'name': 'Notch1'}, 4: {'name': 'IL7RStat'}, 5: {'name': 'IL7Ra'}, 6: {'name': 'Nrarp'}, 7: {'name': 'GATA3'}, 8: {'name': 'TCF1'}, 9: {'name': 'Bcl11b'}, 10: {'name': 'Ikaros'}, 11: {'name': 'Runx1'}, 12: {'name': 'HEBAlt'}, 13: {'name': 'Eprotein'}, 14: {'name': 'Gfi1'}, 15: {'name': 'Myb'}, 16: {'name': 'E2A'}, 17: {'name': 'HEB'}, 18: {'name': 'SLE'}, 19: {'name': 'SclTal1'}, 20: {'name': 'Lyl1'}, 21: {'name': 'Id2'}, 22: {'name': 'PU1'}, 23: {'name': 'Gfi1b'}, 24: {'name': 'Lmo2'}})"
      ]
     },
     "execution_count": 3,
     "metadata": {},
     "output_type": "execute_result"
    }
   ],
   "source": [
    "g.nodes(data=True)"
   ]
  },
  {
   "cell_type": "markdown",
   "metadata": {},
   "source": [
    "# Network Cycles becomes Nodes"
   ]
  },
  {
   "cell_type": "markdown",
   "metadata": {},
   "source": [
    "# Cycle Data Type\n",
    "Later on, it's probably wise to define data-type to speed up hashing and equalities"
   ]
  },
  {
   "cell_type": "code",
   "execution_count": 4,
   "metadata": {},
   "outputs": [],
   "source": [
    "class Cycle(object):\n",
    "    def __init__(self, cycle_list: List, positivity: bool, NODE_COUNT: int):\n",
    "        self.NODE_COUNT = NODE_COUNT\n",
    "        self.N = len(cycle_list)\n",
    "        self.cycle_array = np.zeros(NODE_COUNT, dtype=np.bool)\n",
    "        self.orig_cycle_list = np.array(cycle_list, dtype=int)\n",
    "        # self.orig_cycle_list = cycle_list\n",
    "        for c in self.orig_cycle_list:\n",
    "            self.cycle_array[c] = True\n",
    "        self.positivity = positivity\n",
    "        self.id = ''.join(self.cycle_array.astype(int).astype(str))\n",
    "\n",
    "    # def get_nodes(self):\n",
    "    #     for node in self.cycle_list:\n",
    "    #         return node\n",
    "        \n",
    "    def get_node_and_next(self):\n",
    "        # -> Generator[Tuple[int, int]]:\n",
    "        for i, node in enumerate(self.orig_cycle_list):\n",
    "            next_node = self.orig_cycle_list[(i + 1) % self.N]\n",
    "            yield(node, next_node)\n",
    "\n",
    "    def __eq__(self, other):\n",
    "        return not(np.any(np.logical_xor(self.cycle_array, other.cycle_array)))\n",
    "        # return (self.NODE_COUNT == other.NODE_COUNT) and not(np.any(self.cycle_array, other.cycle_array))\n",
    "\n",
    "    def __hash__(self):\n",
    "        val = int(hashlib.sha256(self.cycle_array).hexdigest(), base=16)\n",
    "        return val\n",
    "    \n",
    "    def __repr__(self):\n",
    "        return self.id\n",
    "\n",
    "    def and_two(self, c2, c3):\n",
    "        return np.any(\n",
    "            np.logical_and(\n",
    "                np.logical_and(self.cycle_array, c2.cycle_array),\n",
    "                c3.cycle_array\n",
    "            )\n",
    "            \n",
    "        )\n",
    "\n",
    "    def intersection(self, other):\n",
    "        return np.sort(np.intersect1d(self.orig_cycle_list, other.orig_cycle_list))"
   ]
  },
  {
   "cell_type": "markdown",
   "metadata": {},
   "source": [
    "## Filtering for only Positive-cycles\n",
    "A cycle is positive if the XOR of their \"represses\" of all the edges results in a positive"
   ]
  },
  {
   "cell_type": "code",
   "execution_count": 5,
   "metadata": {},
   "outputs": [
    {
     "name": "stdout",
     "output_type": "stream",
     "text": [
      "True -> (0, 1: False) -> True -> (1, 0: True) -> False"
     ]
    }
   ],
   "source": [
    "cycles = sorted(nx.simple_cycles(g))\n",
    "cycle = cycles[0]\n",
    "positive = True\n",
    "print(positive, end =\"\")\n",
    "for i, node in enumerate(cycle):\n",
    "    next_node = cycle[(i + 1) % len(cycle)]\n",
    "    repress = g.edges[node, next_node]['repress']\n",
    "    positive ^= repress\n",
    "    print(f\" -> ({node}, {next_node}: {repress}) -> {positive}\", end=\"\")\n",
    "    if (i + 1) % 3 == 0:\n",
    "        print(f'\\n{positive}', end=\"\")"
   ]
  },
  {
   "cell_type": "code",
   "execution_count": 6,
   "metadata": {},
   "outputs": [],
   "source": [
    "def is_positive(graph: nx.Graph, cycle: List[str]):\n",
    "    positive = True\n",
    "    for i, node in enumerate(cycle):\n",
    "        next_node = cycle[(i + 1) % len(cycle)]\n",
    "        repress = graph.edges[node, next_node]['repress']\n",
    "        positive ^= repress\n",
    "    return positive"
   ]
  },
  {
   "cell_type": "markdown",
   "metadata": {},
   "source": [
    "Find all positive cycles"
   ]
  },
  {
   "cell_type": "code",
   "execution_count": 7,
   "metadata": {},
   "outputs": [
    {
     "data": {
      "text/plain": [
       "2772"
      ]
     },
     "execution_count": 7,
     "metadata": {},
     "output_type": "execute_result"
    }
   ],
   "source": [
    "NODE_COUNT = len(g.nodes())\n",
    "all_cycles = [Cycle(c, is_positive(g, c), NODE_COUNT) for c in nx.simple_cycles(g)]\n",
    "pos_cycles = [c for c in all_cycles if c.positivity]\n",
    "len(all_cycles)"
   ]
  },
  {
   "cell_type": "markdown",
   "metadata": {},
   "source": [
    "## Edge to Cycles Map\n",
    "For each edge, create a set that tracks all the cycles that the edge is in"
   ]
  },
  {
   "cell_type": "code",
   "execution_count": 8,
   "metadata": {},
   "outputs": [],
   "source": [
    "edge_cycles_mp = defaultdict(set)\n",
    "\n",
    "for i, c in enumerate(all_cycles):\n",
    "    for node, next_node in c.get_node_and_next():\n",
    "        edge_cycles_mp[node, next_node].add(c)"
   ]
  },
  {
   "cell_type": "code",
   "execution_count": 9,
   "metadata": {},
   "outputs": [
    {
     "data": {
      "text/plain": [
       "False"
      ]
     },
     "execution_count": 9,
     "metadata": {},
     "output_type": "execute_result"
    }
   ],
   "source": [
    "c1, c2 = all_cycles[1], all_cycles[14]\n",
    "c1 == c2"
   ]
  },
  {
   "cell_type": "code",
   "execution_count": 10,
   "metadata": {},
   "outputs": [],
   "source": [
    "edge_cycles_mp = defaultdict(set)\n",
    "for cycle in all_cycles:\n",
    "    for i, node in cycle.get_node_and_next():\n",
    "        edge_cycles_mp[node, next_node].add(cycle)\n",
    "nx.set_edge_attributes(g, edge_cycles_mp, \"cycles\")"
   ]
  },
  {
   "cell_type": "code",
   "execution_count": 11,
   "metadata": {},
   "outputs": [],
   "source": [
    "class CycleFactory:\n",
    "    def __init__(self, node_count: int):\n",
    "        self.NODE_COUNT = node_count\n",
    "    \n",
    "    def create_cycle(self, cycle_list: List[int]) -> Cycle:\n",
    "        pass"
   ]
  },
  {
   "cell_type": "markdown",
   "metadata": {},
   "source": [
    "## Type 1 Detection\n",
    "Three cycles with a common node"
   ]
  },
  {
   "cell_type": "code",
   "execution_count": 12,
   "metadata": {},
   "outputs": [],
   "source": [
    "def hastype1_old(cycle_sets, node_count):\n",
    "    \"\"\"Determine whether any three cycles share at least one node (Type I motif).\"\"\"\n",
    "    node_uses = [0] * node_count\n",
    "    for cycle_holder in cycle_sets:\n",
    "        for n in cycle_holder.value:\n",
    "            node_uses[n] += 1\n",
    "            if (node_uses[n] == 3):\n",
    "                return True\n",
    "    return False\n",
    "\n",
    "def hastype1(c1, c2, c3):\n",
    "    return c1.and_two(c2, c3)"
   ]
  },
  {
   "cell_type": "markdown",
   "metadata": {},
   "source": [
    "# Cycle Intersection Graph"
   ]
  },
  {
   "cell_type": "code",
   "execution_count": 13,
   "metadata": {},
   "outputs": [
    {
     "data": {
      "text/plain": [
       "1348"
      ]
     },
     "execution_count": 13,
     "metadata": {},
     "output_type": "execute_result"
    }
   ],
   "source": [
    "len(pos_cycles)"
   ]
  },
  {
   "cell_type": "code",
   "execution_count": 17,
   "metadata": {},
   "outputs": [],
   "source": [
    "pos_g = nx.Graph()\n",
    "for i, c1 in enumerate(pos_cycles):\n",
    "    for c2 in pos_cycles[i + 1:]:\n",
    "        commons = c1.intersection(c2)\n",
    "        if len(commons) > 0:\n",
    "            pos_g.add_edge(c1, c2, common_nodes=commons)"
   ]
  },
  {
   "cell_type": "code",
   "execution_count": null,
   "metadata": {},
   "outputs": [],
   "source": []
  }
 ],
 "metadata": {
  "kernelspec": {
   "display_name": "venv",
   "language": "python",
   "name": "python3"
  },
  "language_info": {
   "codemirror_mode": {
    "name": "ipython",
    "version": 3
   },
   "file_extension": ".py",
   "mimetype": "text/x-python",
   "name": "python",
   "nbconvert_exporter": "python",
   "pygments_lexer": "ipython3",
   "version": "3.12.6"
  }
 },
 "nbformat": 4,
 "nbformat_minor": 2
}
