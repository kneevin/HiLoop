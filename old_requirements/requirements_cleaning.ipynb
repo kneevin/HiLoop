{
 "cells": [
  {
   "cell_type": "code",
   "execution_count": 1,
   "metadata": {},
   "outputs": [],
   "source": [
    "from collections import defaultdict\n",
    "import json\n",
    "import os\n",
    "fnames = [\n",
    "    './files/requirements_modeling.txt',\n",
    "    './files/requirements.txt'\n",
    "]"
   ]
  },
  {
   "cell_type": "code",
   "execution_count": 4,
   "metadata": {},
   "outputs": [],
   "source": [
    "packages = defaultdict(list)\n",
    "\n",
    "for fname in fnames:\n",
    "    with open(fname, 'r') as fp:\n",
    "        for line in fp:\n",
    "            package_name, version = line.rstrip().rsplit('==', 1)\n",
    "            packages[package_name].append(version)\n",
    "\n",
    "final_versions = dict()\n",
    "for package_name, versions in packages.items():\n",
    "    final_versions[package_name] = min(versions)"
   ]
  },
  {
   "cell_type": "code",
   "execution_count": 6,
   "metadata": {},
   "outputs": [],
   "source": [
    "export_fname = \"new_requirements.txt\"\n",
    "with open(export_fname, 'w') as fp:\n",
    "    for package_name, version in final_versions.items():\n",
    "        fp.write(f\"{package_name}=={version}\\n\")"
   ]
  }
 ],
 "metadata": {
  "kernelspec": {
   "display_name": "venv",
   "language": "python",
   "name": "python3"
  },
  "language_info": {
   "codemirror_mode": {
    "name": "ipython",
    "version": 3
   },
   "file_extension": ".py",
   "mimetype": "text/x-python",
   "name": "python",
   "nbconvert_exporter": "python",
   "pygments_lexer": "ipython3",
   "version": "3.10.8"
  }
 },
 "nbformat": 4,
 "nbformat_minor": 2
}
